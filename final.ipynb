{
 "cells": [
  {
   "cell_type": "code",
   "execution_count": 4,
   "metadata": {},
   "outputs": [],
   "source": [
    "from src.preprocessing.text_preprocessing import clean_text, transform_countvec, transform_tfidf\n",
    "import src.models.models as models\n",
    "import numpy as np\n",
    "import pandas as pd"
   ]
  },
  {
   "cell_type": "code",
   "execution_count": 5,
   "metadata": {},
   "outputs": [
    {
     "name": "stderr",
     "output_type": "stream",
     "text": [
      "c:\\Users\\aupab\\Desktop\\mathml_final_proj\\mathml_finalproj\\src\\preprocessing\\text_preprocessing.py:28: FutureWarning: The default value of regex will change from True to False in a future version.\n",
      "  col = col.str.replace('[^\\w\\s]', '')\\\n"
     ]
    }
   ],
   "source": [
    "train_raw = pd.read_csv(\"data/train.csv\")\n",
    "test_raw = pd.read_csv(\"data/test.csv\")\n",
    "y_test = pd.read_csv(\"data/submit.csv\")\n",
    "\n",
    "train_clean = clean_text(train_raw)\n",
    "test_clean = clean_text(test_raw)\n",
    "y_train = train_clean[\"label\"]\n",
    "\n",
    "X_train, X_test, words = transform_tfidf(train_clean[\"text\"], test_clean[\"text\"])\n",
    "\n",
    "X_train = X_train.todense()"
   ]
  },
  {
   "cell_type": "code",
   "execution_count": 6,
   "metadata": {},
   "outputs": [],
   "source": [
    "y_train = y_train.to_numpy()"
   ]
  },
  {
   "cell_type": "code",
   "execution_count": 7,
   "metadata": {},
   "outputs": [],
   "source": [
    "X_train = X_train[:500,]\n",
    "y_train = y_train[:500]\n",
    "n, p = X_train.shape\n",
    "indices = np.random.permutation(n)\n",
    "X_train = X_train[indices,:]\n",
    "y_train = y_train[indices]\n",
    "folds = 5\n",
    "n_alphas = 10\n",
    "lambdas = [1, 0.1, 0.01, 0.001, 0.0001, 0.00001, 0.000001]\n",
    "\n",
    "avg_errors_by_penalty = np.empty((n_alphas + 1,len(lambdas)))"
   ]
  },
  {
   "cell_type": "code",
   "execution_count": 27,
   "metadata": {},
   "outputs": [],
   "source": [
    "import numpy as np\n",
    "\n",
    "\n",
    "def gradient_descent(x_train, x_dev, y_train, y_dev, n_alphas, lambda_):\n",
    "    '''\n",
    "    '''\n",
    "\n",
    "    alphas = np.linspace(0, 1, n_alphas+1)\n",
    "    errors = []\n",
    "\n",
    "    for alpha in alphas:\n",
    "        w = sgd(x_train, y_train, alpha, lambda_, 1e-4)\n",
    "        pred = (1 / (1 + np.exp(-x_dev.dot(w)))).A1\n",
    "        \n",
    "\n",
    "        errors = (-y_dev*np.log(pred)) - ((1-y_dev)*np.log(pred))\n",
    "\n",
    "        error_alpha_i  = np.mean(errors)\n",
    "\n",
    "    return error_alpha_i\n",
    "\n",
    "\n",
    "def sgd(X, y, alpha, lambda_, eta): \n",
    "    '''\n",
    "    '''\n",
    "    n, p = X.shape\n",
    "    l1 = alpha*lambda_\n",
    "    l2 = (1-alpha)*lambda_\n",
    "\n",
    "    w = np.zeros(p)\n",
    "    dw = np.zeros(p)\n",
    "\n",
    "    for _ in range(100):\n",
    "        i = np.random.randint(0, n)\n",
    "        x_i = X[i]\n",
    "        y_i = y[i]\n",
    "\n",
    "        pred_i = 1 / (1 + np.exp(-x_i.dot(w)))\n",
    "\n",
    "        dw = -1* (y_i - pred_i)* x_i + l1*np.sign(w) + 2*l2*w\n",
    "\n",
    "        w = w - eta * dw\n",
    "        w = w.A1\n",
    "\n",
    "    return w\n",
    "\n",
    "\n",
    "\n",
    "\n"
   ]
  },
  {
   "cell_type": "code",
   "execution_count": 28,
   "metadata": {},
   "outputs": [],
   "source": [
    "for i, lambda_ in enumerate(lambdas):\n",
    "    errors = np.empty((n_alphas+ 1,folds))\n",
    "    buckets = list(range(0, n + 1, n//folds))\n",
    "    \n",
    "    for k in range(folds):\n",
    "        val1 = buckets[k]\n",
    "        val2 = buckets[k+1]\n",
    "\n",
    "        x_dev = X_train[val1:val2,:]\n",
    "        x_train = np.delete(X_train, np.s_[val1:val2], axis=0)\n",
    "\n",
    "        y_dev = y_train[val1:val2]\n",
    "        y_train2 = np.delete(y_train, np.s_[val1:val2], axis=0)\n",
    "\n",
    "        errors[:,k] = gradient_descent(x_train, x_dev, y_train2, y_dev,n_alphas, lambda_)\n",
    "\n",
    "    avg_errors_by_penalty[:,i] = np.mean(errors, axis=1)"
   ]
  },
  {
   "cell_type": "code",
   "execution_count": 29,
   "metadata": {},
   "outputs": [
    {
     "name": "stdout",
     "output_type": "stream",
     "text": [
      "[[0.69308609 0.69314638 0.69315181 0.69316351 0.69316381 0.69318051\n",
      "  0.69317203]\n",
      " [0.69308609 0.69314638 0.69315181 0.69316351 0.69316381 0.69318051\n",
      "  0.69317203]\n",
      " [0.69308609 0.69314638 0.69315181 0.69316351 0.69316381 0.69318051\n",
      "  0.69317203]\n",
      " [0.69308609 0.69314638 0.69315181 0.69316351 0.69316381 0.69318051\n",
      "  0.69317203]\n",
      " [0.69308609 0.69314638 0.69315181 0.69316351 0.69316381 0.69318051\n",
      "  0.69317203]\n",
      " [0.69308609 0.69314638 0.69315181 0.69316351 0.69316381 0.69318051\n",
      "  0.69317203]\n",
      " [0.69308609 0.69314638 0.69315181 0.69316351 0.69316381 0.69318051\n",
      "  0.69317203]\n",
      " [0.69308609 0.69314638 0.69315181 0.69316351 0.69316381 0.69318051\n",
      "  0.69317203]\n",
      " [0.69308609 0.69314638 0.69315181 0.69316351 0.69316381 0.69318051\n",
      "  0.69317203]\n",
      " [0.69308609 0.69314638 0.69315181 0.69316351 0.69316381 0.69318051\n",
      "  0.69317203]\n",
      " [0.69308609 0.69314638 0.69315181 0.69316351 0.69316381 0.69318051\n",
      "  0.69317203]]\n"
     ]
    }
   ],
   "source": [
    "print(avg_errors_by_penalty)"
   ]
  }
 ],
 "metadata": {
  "kernelspec": {
   "display_name": "Python 3.9.7 64-bit (microsoft store)",
   "language": "python",
   "name": "python3"
  },
  "language_info": {
   "codemirror_mode": {
    "name": "ipython",
    "version": 3
   },
   "file_extension": ".py",
   "mimetype": "text/x-python",
   "name": "python",
   "nbconvert_exporter": "python",
   "pygments_lexer": "ipython3",
   "version": "3.9.7"
  },
  "orig_nbformat": 4,
  "vscode": {
   "interpreter": {
    "hash": "a63e1f615196db66ca264332955e6a0bb5ae024218425d84f3a82744815494ae"
   }
  }
 },
 "nbformat": 4,
 "nbformat_minor": 2
}
