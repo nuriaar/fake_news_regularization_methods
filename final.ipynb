{
 "cells": [
  {
   "cell_type": "code",
   "execution_count": 27,
   "metadata": {},
   "outputs": [],
   "source": [
    "import numpy as np\n",
    "import pandas as pd\n",
    "\n",
    "from src.data_preprocessing import clean_text, transform_tfidf\n",
    "from src.model import gradient_descent, predict, pred_to_accuracy\n",
    "from src.viz import graph_log_loss"
   ]
  },
  {
   "cell_type": "code",
   "execution_count": 28,
   "metadata": {},
   "outputs": [],
   "source": [
    "# Read data\n",
    "train_raw = pd.read_csv(\"data/train.csv\")\n",
    "test_raw = pd.read_csv(\"data/test.csv\")\n",
    "y_test_raw = pd.read_csv(\"data/submit.csv\")"
   ]
  },
  {
   "cell_type": "code",
   "execution_count": 29,
   "metadata": {},
   "outputs": [
    {
     "name": "stderr",
     "output_type": "stream",
     "text": [
      "/Users/nuriaadellraventos/Library/CloudStorage/OneDrive-TheUniversityofChicago/Classes/MathML/proj/mathml_finalproj/src/data_preprocessing.py:28: FutureWarning: The default value of regex will change from True to False in a future version.\n",
      "  col = col.str.replace('[^\\w\\s]', '')\\\n"
     ]
    }
   ],
   "source": [
    "# Implement data cleaning and text preprocessing\n",
    "test_raw = test_raw.join(y_test_raw[\"label\"])\n",
    "train_clean = clean_text(train_raw)\n",
    "test_clean = clean_text(test_raw)\n",
    "y_train = train_clean[\"label\"].to_numpy()\n",
    "y_test = test_clean[\"label\"].to_numpy()"
   ]
  },
  {
   "cell_type": "code",
   "execution_count": 30,
   "metadata": {},
   "outputs": [
    {
     "data": {
      "text/plain": [
       "(18285, 16770)"
      ]
     },
     "execution_count": 30,
     "metadata": {},
     "output_type": "execute_result"
    }
   ],
   "source": [
    "# tf-idf transformation\n",
    "X_train, X_test, words = transform_tfidf(train_clean[\"text\"], test_clean[\"text\"])\n",
    "\n",
    "X_train = X_train.todense()\n",
    "X_test = X_test.todense()\n",
    "X_train.shape"
   ]
  },
  {
   "cell_type": "code",
   "execution_count": 32,
   "metadata": {},
   "outputs": [],
   "source": [
    "n, p = X_train.shape\n",
    "\n",
    "# Shuffle training data\n",
    "indices = np.random.permutation(n)\n",
    "X_train = X_train[indices,:]\n",
    "y_train = y_train[indices]\n",
    "\n",
    "# Set training parameters\n",
    "folds = 3\n",
    "n_alphas = 10\n",
    "lambdas = [1, 0.1, 0.01, 0.001, 0.0001, 0.00001, 0.000001]"
   ]
  },
  {
   "cell_type": "code",
   "execution_count": 33,
   "metadata": {},
   "outputs": [],
   "source": [
    "# Get average train log loss for each lambda and alpha\n",
    "avg_loss_by_penalty = np.empty((n_alphas + 1,len(lambdas)))\n",
    "for i, lambda_ in enumerate(lambdas):\n",
    "    log_loss = np.empty((n_alphas+ 1,folds))\n",
    "    buckets = list(range(0, n + 1, n//folds))\n",
    "    \n",
    "    for k in range(folds):\n",
    "        val1 = buckets[k]\n",
    "        val2 = buckets[k+1]\n",
    "\n",
    "        X_val = X_train[val1:val2,:]\n",
    "        X_train = np.delete(X_train, np.s_[val1:val2], axis=0)\n",
    "\n",
    "        y_dev = y_train[val1:val2]\n",
    "        y_train2 = np.delete(y_train, np.s_[val1:val2], axis=0)\n",
    "\n",
    "        log_loss[:,k] = gradient_descent(X_train, X_val, y_train2, y_dev,n_alphas, lambda_)\n",
    "\n",
    "    avg_loss_by_penalty[:,i] = np.mean(log_loss, axis=1)"
   ]
  },
  {
   "cell_type": "code",
   "execution_count": null,
   "metadata": {},
   "outputs": [
    {
     "name": "stdout",
     "output_type": "stream",
     "text": [
      "[[0.6932472  0.69438084 0.23308476 0.01062063 0.0086386  0.00848593\n",
      "  0.00847283 0.00847213]\n",
      " [0.69115632 0.69314166 0.26863041 0.01050025 0.00862905 0.00848544\n",
      "  0.00847032 0.00847204]\n",
      " [0.68771334 0.6931415  0.31071463 0.01037934 0.00861917 0.00848641\n",
      "  0.00847087 0.00847103]\n",
      " [0.69757249 0.69314398 0.36045149 0.0102626  0.00861259 0.0084839\n",
      "  0.0084714  0.00847131]\n",
      " [0.68190465 0.6930182  0.41816245 0.0101429  0.0086046  0.00848308\n",
      "  0.00847238 0.0084696 ]\n",
      " [0.70767408 0.69329173 0.48367046 0.01002669 0.0085945  0.00848319\n",
      "  0.00847199 0.00847064]\n",
      " [0.71064744 0.69283309 0.55307056 0.00991185 0.0085874  0.00848014\n",
      "  0.00847163 0.00847122]\n",
      " [0.67379116 0.69364524 0.61820572 0.0097985  0.00857885 0.00848041\n",
      "  0.00846961 0.00847012]\n",
      " [0.71633571 0.69369833 0.66652161 0.00968694 0.00856984 0.00847971\n",
      "  0.00847272 0.00847125]\n",
      " [0.66887354 0.69355773 0.68946844 0.00957635 0.00856146 0.00848032\n",
      "  0.00847157 0.00847129]\n",
      " [0.69851061 0.69322271 0.69301996 0.0094691  0.0085541  0.0084786\n",
      "  0.0084713  0.00846972]]\n"
     ]
    }
   ],
   "source": [
    "print(avg_loss_by_penalty)"
   ]
  },
  {
   "cell_type": "code",
   "execution_count": null,
   "metadata": {},
   "outputs": [],
   "source": [
    "def get_best_vals(avg_err_array, lambdas):\n",
    "    ind_ridge = (np.where(avg_err_array[0] == avg_err_array[0].min())[0][0])\n",
    "    ind_lasso = (np.where(avg_err_array[10] == avg_err_array[10].min())[0][0])\n",
    "\n",
    "    enl_matrix = avg_err_array[1:10]\n",
    "    alpha_idx, en_lambda_idx = np.where(enl_matrix == np.min(enl_matrix))\n",
    "    alpha_idx += 1\n",
    "\n",
    "    ridge_lambda = lambdas[ind_ridge]\n",
    "    lasso_lambda = lambdas[ind_lasso]\n",
    "    en_lambda = lambdas[en_lambda_idx[0]]\n",
    "    best_alpha = alpha_idx[0] * 0.1\n",
    "\n",
    "    return  ridge_lambda, lasso_lambda, en_lambda, best_alpha"
   ]
  },
  {
   "cell_type": "code",
   "execution_count": null,
   "metadata": {},
   "outputs": [],
   "source": [
    "graph_log_loss(avg_loss_by_penalty)"
   ]
  },
  {
   "cell_type": "code",
   "execution_count": null,
   "metadata": {},
   "outputs": [],
   "source": [
    "ridge_lambda, lasso_lambda, en_lambda, best_alpha = get_best_vals(avg_loss_by_penalty, lambdas)\n",
    "print(\"Best lambda for ridge regularization: \", ridge_lambda)\n",
    "print(\"Best lambda for lasso regularization: \", lasso_lambda)\n",
    "print(\"Best lambda for elastic net regularization: \", en_lambda)\n",
    "print(\"Best alpha for elastic net regularization: \", best_alpha)"
   ]
  },
  {
   "cell_type": "code",
   "execution_count": null,
   "metadata": {},
   "outputs": [],
   "source": [
    "# Train data predictions\n",
    "train_pred_ridge = predict(X_train, y_train,  X_train, 0, ridge_lambda, 0.001, 10000)\n",
    "train_pred_lasso = predict(X_train, y_train,  X_train, 1, lasso_lambda, 0.001, 10000)\n",
    "train_pred_en = predict(X_train, y_train,  X_train, best_alpha, en_lambda, 0.001, 10000)"
   ]
  },
  {
   "cell_type": "code",
   "execution_count": null,
   "metadata": {},
   "outputs": [],
   "source": [
    "# Select threshold and calculate train accuracy\n",
    "threshold = 0.9999\n",
    "train_accuracy_r = pred_to_accuracy(train_pred_ridge, y_test, threshold)\n",
    "train_accuracy_l = pred_to_accuracy(train_pred_lasso, y_test, threshold)\n",
    "train_accuracy_en = pred_to_accuracy(train_pred_en, y_test, threshold)\n",
    "print(train_accuracy_r)\n",
    "print(train_accuracy_l)\n",
    "print(train_accuracy_en)"
   ]
  },
  {
   "cell_type": "code",
   "execution_count": null,
   "metadata": {},
   "outputs": [],
   "source": [
    "# Test data predictions\n",
    "pred_ridge = predict(X_train, y_train,  X_test, 0, ridge_lambda, 0.001, 10000)\n",
    "pred_lasso = predict(X_train, y_train,  X_test, 1, lasso_lambda, 0.001, 10000)\n",
    "pred_en = predict(X_train, y_train,  X_test, best_alpha, en_lambda, 0.001, 10000)"
   ]
  },
  {
   "cell_type": "code",
   "execution_count": null,
   "metadata": {},
   "outputs": [],
   "source": [
    "# Calculate test accuracy\n",
    "accuracy_r = pred_to_accuracy(pred_ridge, y_test, threshold)\n",
    "accuracy_l = pred_to_accuracy(pred_lasso, y_test, threshold)\n",
    "accuracy_en = pred_to_accuracy(pred_en, y_test, threshold)\n",
    "print(accuracy_r)\n",
    "print(accuracy_l)\n",
    "print(accuracy_en)"
   ]
  }
 ],
 "metadata": {
  "kernelspec": {
   "display_name": "Python 3.9.7 64-bit (microsoft store)",
   "language": "python",
   "name": "python3"
  },
  "language_info": {
   "codemirror_mode": {
    "name": "ipython",
    "version": 3
   },
   "file_extension": ".py",
   "mimetype": "text/x-python",
   "name": "python",
   "nbconvert_exporter": "python",
   "pygments_lexer": "ipython3",
   "version": "3.9.7"
  },
  "orig_nbformat": 4,
  "vscode": {
   "interpreter": {
    "hash": "a63e1f615196db66ca264332955e6a0bb5ae024218425d84f3a82744815494ae"
   }
  }
 },
 "nbformat": 4,
 "nbformat_minor": 2
}
